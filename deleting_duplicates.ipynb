{
 "cells": [
  {
   "cell_type": "code",
   "execution_count": 1,
   "metadata": {},
   "outputs": [],
   "source": [
    "import pandas as pd"
   ]
  },
  {
   "cell_type": "code",
   "execution_count": 3,
   "metadata": {},
   "outputs": [],
   "source": [
    "# необходимо указать свой путь до фпйла users.csv который мы заранее подготовили из users.txt\n",
    "path = ''"
   ]
  },
  {
   "cell_type": "code",
   "execution_count": 4,
   "metadata": {},
   "outputs": [],
   "source": [
    "users= pd.read_csv(path)"
   ]
  },
  {
   "cell_type": "code",
   "execution_count": 6,
   "metadata": {},
   "outputs": [
    {
     "data": {
      "text/html": [
       "<div>\n",
       "<style scoped>\n",
       "    .dataframe tbody tr th:only-of-type {\n",
       "        vertical-align: middle;\n",
       "    }\n",
       "\n",
       "    .dataframe tbody tr th {\n",
       "        vertical-align: top;\n",
       "    }\n",
       "\n",
       "    .dataframe thead th {\n",
       "        text-align: right;\n",
       "    }\n",
       "</style>\n",
       "<table border=\"1\" class=\"dataframe\">\n",
       "  <thead>\n",
       "    <tr style=\"text-align: right;\">\n",
       "      <th></th>\n",
       "      <th>id</th>\n",
       "      <th>role</th>\n",
       "    </tr>\n",
       "  </thead>\n",
       "  <tbody>\n",
       "    <tr>\n",
       "      <th>0</th>\n",
       "      <td>e28351f5-4ccb-4549-8647-d43f2b15e7b8</td>\n",
       "      <td>pupil</td>\n",
       "    </tr>\n",
       "    <tr>\n",
       "      <th>1</th>\n",
       "      <td>4df2832a-1d63-4453-9659-43993fc35996</td>\n",
       "      <td>tutor</td>\n",
       "    </tr>\n",
       "    <tr>\n",
       "      <th>2</th>\n",
       "      <td>bb1c0bc8-1212-452b-97a0-439d4a2169e2</td>\n",
       "      <td>pupil</td>\n",
       "    </tr>\n",
       "    <tr>\n",
       "      <th>3</th>\n",
       "      <td>63441abe-c4da-4275-ba26-66f7dbd65dde</td>\n",
       "      <td>tutor</td>\n",
       "    </tr>\n",
       "    <tr>\n",
       "      <th>4</th>\n",
       "      <td>a1323b68-c82c-429a-8e2c-65597e648c1a</td>\n",
       "      <td>tutor</td>\n",
       "    </tr>\n",
       "    <tr>\n",
       "      <th>...</th>\n",
       "      <td>...</td>\n",
       "      <td>...</td>\n",
       "    </tr>\n",
       "    <tr>\n",
       "      <th>263</th>\n",
       "      <td>9a192e4d-473f-4f81-af68-1b422bd814f6</td>\n",
       "      <td>tutor</td>\n",
       "    </tr>\n",
       "    <tr>\n",
       "      <th>264</th>\n",
       "      <td>720868c1-3d34-44a7-a23e-6c4a0fac609a</td>\n",
       "      <td>pupil</td>\n",
       "    </tr>\n",
       "    <tr>\n",
       "      <th>265</th>\n",
       "      <td>582e6abb-dd9a-42fa-b441-455eac28327e</td>\n",
       "      <td>pupil</td>\n",
       "    </tr>\n",
       "    <tr>\n",
       "      <th>266</th>\n",
       "      <td>d3364cf3-46cc-4e64-ad11-70a069f7c049</td>\n",
       "      <td>pupil</td>\n",
       "    </tr>\n",
       "    <tr>\n",
       "      <th>267</th>\n",
       "      <td>f76609c8-ba5d-4818-9b57-097debc90cab</td>\n",
       "      <td>pupil</td>\n",
       "    </tr>\n",
       "  </tbody>\n",
       "</table>\n",
       "<p>268 rows × 2 columns</p>\n",
       "</div>"
      ],
      "text/plain": [
       "                                       id   role\n",
       "0    e28351f5-4ccb-4549-8647-d43f2b15e7b8  pupil\n",
       "1    4df2832a-1d63-4453-9659-43993fc35996  tutor\n",
       "2    bb1c0bc8-1212-452b-97a0-439d4a2169e2  pupil\n",
       "3    63441abe-c4da-4275-ba26-66f7dbd65dde  tutor\n",
       "4    a1323b68-c82c-429a-8e2c-65597e648c1a  tutor\n",
       "..                                    ...    ...\n",
       "263  9a192e4d-473f-4f81-af68-1b422bd814f6  tutor\n",
       "264  720868c1-3d34-44a7-a23e-6c4a0fac609a  pupil\n",
       "265  582e6abb-dd9a-42fa-b441-455eac28327e  pupil\n",
       "266  d3364cf3-46cc-4e64-ad11-70a069f7c049  pupil\n",
       "267  f76609c8-ba5d-4818-9b57-097debc90cab  pupil\n",
       "\n",
       "[268 rows x 2 columns]"
      ]
     },
     "execution_count": 6,
     "metadata": {},
     "output_type": "execute_result"
    }
   ],
   "source": [
    "users.drop_duplicates()"
   ]
  },
  {
   "cell_type": "code",
   "execution_count": 7,
   "metadata": {},
   "outputs": [],
   "source": [
    "users.drop_duplicates().to_csv('', index=False)"
   ]
  },
  {
   "cell_type": "code",
   "execution_count": null,
   "metadata": {},
   "outputs": [],
   "source": []
  }
 ],
 "metadata": {
  "kernelspec": {
   "display_name": "Python 3",
   "language": "python",
   "name": "python3"
  },
  "language_info": {
   "codemirror_mode": {
    "name": "ipython",
    "version": 3
   },
   "file_extension": ".py",
   "mimetype": "text/x-python",
   "name": "python",
   "nbconvert_exporter": "python",
   "pygments_lexer": "ipython3",
   "version": "3.7.6"
  }
 },
 "nbformat": 4,
 "nbformat_minor": 4
}
