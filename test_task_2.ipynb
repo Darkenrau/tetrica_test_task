{
 "cells": [
  {
   "cell_type": "markdown",
   "metadata": {},
   "source": [
    "# Задание 2: IP-адреса"
   ]
  },
  {
   "cell_type": "code",
   "execution_count": 242,
   "metadata": {},
   "outputs": [],
   "source": [
    "path = '/Users/engel/Downloads/hits.txt'"
   ]
  },
  {
   "cell_type": "code",
   "execution_count": 244,
   "metadata": {},
   "outputs": [],
   "source": [
    "file = open(path,'r')"
   ]
  },
  {
   "cell_type": "code",
   "execution_count": 247,
   "metadata": {},
   "outputs": [],
   "source": [
    "hits = []\n",
    "chunk_size = 1000\n",
    "from itertools import islice\n",
    "\n",
    "\n",
    "with open(path, 'r') as f:\n",
    "    while True:\n",
    "        chunk = [x for x in islice(f, chunk_size)]\n",
    "        if not chunk:\n",
    "            break\n",
    "        \n",
    "        hits.extend(chunk)\n",
    "#так как файл очень большой, то считываем его кусками"
   ]
  },
  {
   "cell_type": "code",
   "execution_count": 248,
   "metadata": {},
   "outputs": [],
   "source": [
    "import re"
   ]
  },
  {
   "cell_type": "code",
   "execution_count": 249,
   "metadata": {},
   "outputs": [],
   "source": [
    "ip_list = []\n",
    "for string in hits:\n",
    "    temp = re.split(r'\\s',string)\n",
    "    if not temp:\n",
    "        break\n",
    "    ip_list.append(temp[1])\n",
    "#сохраняем в список только ip-адреса\n",
    "    "
   ]
  },
  {
   "cell_type": "code",
   "execution_count": 250,
   "metadata": {},
   "outputs": [],
   "source": [
    "freq = {}\n",
    "for i in ip_list:\n",
    "    if i in freq:\n",
    "        freq[i] += 1\n",
    "    else:\n",
    "        freq[i] = 1\n",
    "\n",
    "#создаем словарь, где ключ - ip-адрес, значение - частота встречаемости ip-адреса          \n"
   ]
  },
  {
   "cell_type": "code",
   "execution_count": 220,
   "metadata": {},
   "outputs": [
    {
     "name": "stdout",
     "output_type": "stream",
     "text": [
      "154.157.157.156\n",
      "82.146.232.163\n",
      "194.78.107.33\n",
      "226.247.119.128\n",
      "21.143.243.182\n",
      "1995\n"
     ]
    }
   ],
   "source": [
    "counter = 0\n",
    "while counter < 5:\n",
    "    max_key = max(freq, key=freq.get)\n",
    "    freq.pop(max_key)\n",
    "    counter += 1\n",
    "    print(max_key)\n",
    "print(len(freq))\n",
    "    \n",
    "#выводим 5 ключей с наибольшими значениями"
   ]
  },
  {
   "cell_type": "code",
   "execution_count": null,
   "metadata": {},
   "outputs": [],
   "source": []
  }
 ],
 "metadata": {
  "kernelspec": {
   "display_name": "Python 3",
   "language": "python",
   "name": "python3"
  },
  "language_info": {
   "codemirror_mode": {
    "name": "ipython",
    "version": 3
   },
   "file_extension": ".py",
   "mimetype": "text/x-python",
   "name": "python",
   "nbconvert_exporter": "python",
   "pygments_lexer": "ipython3",
   "version": "3.7.6"
  }
 },
 "nbformat": 4,
 "nbformat_minor": 4
}
