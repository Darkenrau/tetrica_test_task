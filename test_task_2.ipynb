{
 "cells": [
  {
   "cell_type": "markdown",
   "metadata": {},
   "source": [
    "# Задание 2: IP-адреса"
   ]
  },
  {
   "cell_type": "code",
   "execution_count": 3,
   "metadata": {},
   "outputs": [],
   "source": [
    "# необходимо указать свой путь до фпйла с логами\n",
    "path = ''"
   ]
  },
  {
   "cell_type": "code",
   "execution_count": 4,
   "metadata": {},
   "outputs": [],
   "source": [
    "file = open(path,'r')"
   ]
  },
  {
   "cell_type": "code",
   "execution_count": 5,
   "metadata": {},
   "outputs": [],
   "source": [
    "from itertools import islice\n",
    "hits = []\n",
    "chunk_size = 1000\n",
    "\n",
    "# так как файл может быть большим, то считываем его кусками\n",
    "with open(path, 'r') as f:\n",
    "    while True:\n",
    "        chunk = [x for x in islice(f, chunk_size)]\n",
    "        if not chunk:\n",
    "            break\n",
    "        \n",
    "        hits.extend(chunk)"
   ]
  },
  {
   "cell_type": "code",
   "execution_count": 6,
   "metadata": {},
   "outputs": [],
   "source": [
    "import re\n",
    "\n",
    "ip_list = []\n",
    "for line in hits:\n",
    "    line_parts = re.split(r'\\s', line)\n",
    "    if not line_parts:\n",
    "        break\n",
    "\n",
    "    ip_list.append(line_parts[1])"
   ]
  },
  {
   "cell_type": "code",
   "execution_count": 7,
   "metadata": {},
   "outputs": [],
   "source": [
    "freq = {} # создаем словарь, где ключ - ip-адрес, значение - частота встречаемости ip-адреса  \n",
    "for i in ip_list:\n",
    "    if i in freq:\n",
    "        freq[i] += 1\n",
    "    else:\n",
    "        freq[i] = 1\n",
    "\n",
    "        \n"
   ]
  },
  {
   "cell_type": "code",
   "execution_count": 8,
   "metadata": {},
   "outputs": [
    {
     "name": "stdout",
     "output_type": "stream",
     "text": [
      "154.157.157.156\n",
      "82.146.232.163\n",
      "194.78.107.33\n",
      "226.247.119.128\n",
      "21.143.243.182\n"
     ]
    }
   ],
   "source": [
    "counter = 0\n",
    "# выводим 5 ключей с наибольшими значениями\n",
    "while counter < 5:\n",
    "    max_key = max(freq, key=freq.get)\n",
    "    freq.pop(max_key)\n",
    "    counter += 1\n",
    "    print(max_key)\n",
    "\n",
    "    \n"
   ]
  },
  {
   "cell_type": "code",
   "execution_count": null,
   "metadata": {},
   "outputs": [],
   "source": []
  }
 ],
 "metadata": {
  "kernelspec": {
   "display_name": "Python 3",
   "language": "python",
   "name": "python3"
  },
  "language_info": {
   "codemirror_mode": {
    "name": "ipython",
    "version": 3
   },
   "file_extension": ".py",
   "mimetype": "text/x-python",
   "name": "python",
   "nbconvert_exporter": "python",
   "pygments_lexer": "ipython3",
   "version": "3.7.6"
  }
 },
 "nbformat": 4,
 "nbformat_minor": 4
}
