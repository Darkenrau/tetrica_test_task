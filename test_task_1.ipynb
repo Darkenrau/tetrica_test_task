{
 "cells": [
  {
   "cell_type": "markdown",
   "metadata": {},
   "source": [
    "# Задание 1: Имена"
   ]
  },
  {
   "cell_type": "code",
   "execution_count": 85,
   "metadata": {},
   "outputs": [],
   "source": [
    "path = \n",
    "#здесь должен быть путь к файлу"
   ]
  },
  {
   "cell_type": "code",
   "execution_count": 86,
   "metadata": {},
   "outputs": [],
   "source": [
    "file = open(path,'r') \n",
    "#открываем файл"
   ]
  },
  {
   "cell_type": "code",
   "execution_count": 87,
   "metadata": {},
   "outputs": [],
   "source": [
    "read_file = file.readlines()\n",
    "#читаем файл"
   ]
  },
  {
   "cell_type": "code",
   "execution_count": 89,
   "metadata": {},
   "outputs": [],
   "source": [
    "list_of_names = read_file[0][:-2].split(',')\n",
    "#разбиваем на части, используя разделитель - запятую, складываем в переменную"
   ]
  },
  {
   "cell_type": "code",
   "execution_count": 91,
   "metadata": {},
   "outputs": [],
   "source": [
    "names = []\n",
    "for name in list_of_names:\n",
    "    names.append(name.strip('\"').lower())\n",
    "#обрезаем по ковычкам, приводим к нижнему регистру, складываем в список\n"
   ]
  },
  {
   "cell_type": "code",
   "execution_count": 92,
   "metadata": {},
   "outputs": [],
   "source": [
    "names.sort()\n",
    "#сортируем "
   ]
  },
  {
   "cell_type": "code",
   "execution_count": 94,
   "metadata": {},
   "outputs": [],
   "source": [
    "alphabet = {'a': 1, 'b': 2,'c': 3, 'd': 4, 'e': 5,'f': 6,'g': 7, 'h': 8, 'i': 9, 'j': 10,'k': 11, 'l': 12, 'm': 13, 'n': 14, 'o': 15, \n",
    "            'p': 16, 'q': 17, 'r': 18,'s': 19, 't': 20, 'u': 21, 'v': 22, 'w': 23, 'x': 24, 'y': 25, 'z': 26}\n",
    "\n",
    "#создаем словарь, где ключ - буква, значение - место буквы в алфавите"
   ]
  },
  {
   "cell_type": "code",
   "execution_count": 95,
   "metadata": {},
   "outputs": [
    {
     "name": "stdout",
     "output_type": "stream",
     "text": [
      "{'a': 1, 'b': 2, 'c': 3, 'd': 4, 'e': 5, 'f': 6, 'g': 7, 'h': 8, 'i': 9, 'j': 10, 'k': 11, 'l': 12, 'm': 13, 'n': 14, 'o': 15, 'p': 16, 'q': 17, 'r': 18, 's': 19, 't': 20, 'u': 21, 'v': 22, 'w': 23, 'x': 24, 'y': 25, 'z': 26}\n"
     ]
    }
   ],
   "source": [
    "print(alphabet)"
   ]
  },
  {
   "cell_type": "code",
   "execution_count": 96,
   "metadata": {},
   "outputs": [
    {
     "name": "stdout",
     "output_type": "stream",
     "text": [
      "871529214\n"
     ]
    }
   ],
   "source": [
    "total = 0\n",
    "for i, name in enumerate(names):\n",
    "    alphabet_sum = 0\n",
    "    for letter in name:\n",
    "        alphabet_sum += alphabet[letter]\n",
    "    total += i * alphabet_sum\n",
    "print(total)\n",
    "\n",
    "#складываем в локальную переменную алфавитную сумму, считаем произведение алфавитной суммы и порядкового номера. Все суммируем в глобальной переменной"
   ]
  },
  {
   "cell_type": "code",
   "execution_count": null,
   "metadata": {},
   "outputs": [],
   "source": []
  }
 ],
 "metadata": {
  "kernelspec": {
   "display_name": "Python 3",
   "language": "python",
   "name": "python3"
  },
  "language_info": {
   "codemirror_mode": {
    "name": "ipython",
    "version": 3
   },
   "file_extension": ".py",
   "mimetype": "text/x-python",
   "name": "python",
   "nbconvert_exporter": "python",
   "pygments_lexer": "ipython3",
   "version": "3.7.6"
  }
 },
 "nbformat": 4,
 "nbformat_minor": 4
}
